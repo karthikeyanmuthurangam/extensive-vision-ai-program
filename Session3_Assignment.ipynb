{
  "nbformat": 4,
  "nbformat_minor": 0,
  "metadata": {
    "colab": {
      "name": "Session3_Assignment.ipynb",
      "version": "0.3.2",
      "provenance": [],
      "collapsed_sections": [],
      "include_colab_link": true
    },
    "kernelspec": {
      "name": "python3",
      "display_name": "Python 3"
    },
    "accelerator": "GPU"
  },
  "cells": [
    {
      "cell_type": "markdown",
      "metadata": {
        "id": "view-in-github",
        "colab_type": "text"
      },
      "source": [
        "<a href=\"https://colab.research.google.com/github/karthikeyanmuthurangam/extensive-vision-ai-program/blob/master/Session3_Assignment.ipynb\" target=\"_parent\"><img src=\"https://colab.research.google.com/assets/colab-badge.svg\" alt=\"Open In Colab\"/></a>"
      ]
    },
    {
      "cell_type": "markdown",
      "metadata": {
        "id": "aNyZv-Ec52ot",
        "colab_type": "text"
      },
      "source": [
        "# **Import Libraries and modules**"
      ]
    },
    {
      "cell_type": "markdown",
      "metadata": {
        "id": "YOmWtFDSDhR6",
        "colab_type": "text"
      },
      "source": [
        "## Install Keras\n",
        "\n",
        "\n",
        "\n",
        "*   Keras is a Python Deep Learning library\n",
        "*   Keras is a high-level neural networks API, written in Python and capable of running on top of TensorFlow, CNTK, or Theano.\n",
        "* Supports both convolutional networks and recurrent networks, as well as combinations of the two."
      ]
    },
    {
      "cell_type": "code",
      "metadata": {
        "id": "3m3w1Cw49Zkt",
        "colab_type": "code",
        "outputId": "a4dcba94-67a5-438b-d4a8-25cbfc0350ac",
        "colab": {
          "base_uri": "https://localhost:8080/",
          "height": 34
        }
      },
      "source": [
        "# https://keras.io/\n",
        "!pip install -q keras\n",
        "import keras"
      ],
      "execution_count": 0,
      "outputs": [
        {
          "output_type": "stream",
          "text": [
            "Using TensorFlow backend.\n"
          ],
          "name": "stderr"
        }
      ]
    },
    {
      "cell_type": "markdown",
      "metadata": {
        "id": "HR23H31ZDkxW",
        "colab_type": "text"
      },
      "source": [
        "## Import necessary packages\n",
        "\n",
        "\n",
        "### Numpy\n",
        "\n",
        "*  NumPy is the fundamental package for scientific computing with Python. It provides a high-performance multidimensional array object, and tools for working with these arrays.\n",
        "\n",
        "### Keras\n",
        "\n",
        "*Layers*\n",
        "\n",
        "\n",
        "* Layers packages implements the necessary neural networks operations like Convolution, Pooling, Normalization etc.,\n",
        "\n",
        "*Models*\n",
        "\n",
        "*   Model groups layers into an object with training and inference features.\n",
        "*   supports two types of models: the Sequential model, and the Model class used with the functional API.\n",
        "\n",
        "\n",
        "*Utils*\n",
        "\n",
        "* Contains utility functions needed for creating a neural network\n",
        "\n",
        "*DataSets*\n",
        "\n",
        "* Has in-built famous datasets to get started quickly on the Deep Learning\n"
      ]
    },
    {
      "cell_type": "code",
      "metadata": {
        "id": "Eso6UHE080D4",
        "colab_type": "code",
        "colab": {}
      },
      "source": [
        "import numpy as np\n",
        "\n",
        "from keras.models import Sequential\n",
        "from keras.layers import Dense, Dropout, Activation, Flatten, BatchNormalization, Add\n",
        "from keras.layers import Convolution2D, MaxPooling2D\n",
        "from keras.utils import np_utils\n",
        "\n",
        "from keras.datasets import mnist"
      ],
      "execution_count": 0,
      "outputs": []
    },
    {
      "cell_type": "markdown",
      "metadata": {
        "id": "zByEi95J86RD",
        "colab_type": "text"
      },
      "source": [
        "### Load pre-shuffled MNIST data into train and test sets\n",
        "\n",
        "\n",
        "*   MNIST dataset contains 60000 28x28 grayscale images of the 10 digits, along with a test set of 10,000 images\n",
        "*   load_data() returns a tuple containing the training and test data and its corresponding labels\n",
        "\n"
      ]
    },
    {
      "cell_type": "code",
      "metadata": {
        "id": "7eRM0QWN83PV",
        "colab_type": "code",
        "colab": {}
      },
      "source": [
        "(X_train, y_train), (X_test, y_test) = mnist.load_data()"
      ],
      "execution_count": 0,
      "outputs": []
    },
    {
      "cell_type": "markdown",
      "metadata": {
        "id": "O5081zs4Dsnc",
        "colab_type": "text"
      },
      "source": [
        "## Visualize Image\n",
        "\n",
        "\n",
        "*   Plot one of the training image using the MatPlot library"
      ]
    },
    {
      "cell_type": "code",
      "metadata": {
        "id": "4a4Be72j8-ZC",
        "colab_type": "code",
        "outputId": "a2a16dd9-f073-4eb5-f25f-21f253d6eebe",
        "colab": {
          "base_uri": "https://localhost:8080/",
          "height": 303
        }
      },
      "source": [
        "print (X_train.shape)\n",
        "from matplotlib import pyplot as plt\n",
        "%matplotlib inline\n",
        "plt.imshow(X_train[0])"
      ],
      "execution_count": 0,
      "outputs": [
        {
          "output_type": "stream",
          "text": [
            "(60000, 28, 28)\n"
          ],
          "name": "stdout"
        },
        {
          "output_type": "execute_result",
          "data": {
            "text/plain": [
              "<matplotlib.image.AxesImage at 0x7f2017b83860>"
            ]
          },
          "metadata": {
            "tags": []
          },
          "execution_count": 4
        },
        {
          "output_type": "display_data",
          "data": {
            "image/png": "[encoded data removed]",
            "text/plain": [
              "<Figure size 432x288 with 1 Axes>"
            ]
          },
          "metadata": {
            "tags": []
          }
        }
      ]
    },
    {
      "cell_type": "markdown",
      "metadata": {
        "id": "xuz-yjp6Dwiz",
        "colab_type": "text"
      },
      "source": [
        "## Image Reshaping"
      ]
    },
    {
      "cell_type": "code",
      "metadata": {
        "id": "dkmprriw9AnZ",
        "colab_type": "code",
        "colab": {}
      },
      "source": [
        "X_train = X_train.reshape(X_train.shape[0], 28, 28,1)\n",
        "X_test = X_test.reshape(X_test.shape[0], 28, 28,1)"
      ],
      "execution_count": 0,
      "outputs": []
    },
    {
      "cell_type": "markdown",
      "metadata": {
        "id": "ZpECB16dDzKt",
        "colab_type": "text"
      },
      "source": [
        "## Normalization\n",
        "\n",
        "\n",
        "\n",
        "*   Normalization refers to normalizing the data dimensions so that they are of approximately the same scale\n",
        "* MNIST dataset contains grayscale image where pixel value ranges from 0 to 255. Normalize the input by dividing each pixel by 255, this will make the result bounded between 0 and 1\n"
      ]
    },
    {
      "cell_type": "code",
      "metadata": {
        "id": "X2m4YS4E9CRh",
        "colab_type": "code",
        "colab": {}
      },
      "source": [
        "X_train = X_train.astype('float32')\n",
        "X_test = X_test.astype('float32')\n",
        "X_train /= 255\n",
        "X_test /= 255"
      ],
      "execution_count": 0,
      "outputs": []
    },
    {
      "cell_type": "code",
      "metadata": {
        "id": "0Mn0vAYD9DvB",
        "colab_type": "code",
        "outputId": "f5a10ffd-9231-41ad-9b9c-0f6dadb8dd0e",
        "colab": {
          "base_uri": "https://localhost:8080/",
          "height": 34
        }
      },
      "source": [
        "y_train[:10]"
      ],
      "execution_count": 0,
      "outputs": [
        {
          "output_type": "execute_result",
          "data": {
            "text/plain": [
              "array([5, 0, 4, 1, 9, 2, 1, 3, 1, 4], dtype=uint8)"
            ]
          },
          "metadata": {
            "tags": []
          },
          "execution_count": 7
        }
      ]
    },
    {
      "cell_type": "markdown",
      "metadata": {
        "id": "wrpZceFsD2Jk",
        "colab_type": "text"
      },
      "source": [
        "## Convert 1-dimensional class arrays to 10-dimensional class matrices"
      ]
    },
    {
      "cell_type": "code",
      "metadata": {
        "id": "ZG8JiXR39FHC",
        "colab_type": "code",
        "colab": {}
      },
      "source": [
        "# Convert 1-dimensional class arrays to 10-dimensional class matrices\n",
        "Y_train = np_utils.to_categorical(y_train, 10)\n",
        "Y_test = np_utils.to_categorical(y_test, 10)"
      ],
      "execution_count": 0,
      "outputs": []
    },
    {
      "cell_type": "code",
      "metadata": {
        "id": "fYlFRvKS9HMB",
        "colab_type": "code",
        "outputId": "618d77b5-b932-4695-c3f4-588cbf798876",
        "colab": {
          "base_uri": "https://localhost:8080/",
          "height": 187
        }
      },
      "source": [
        "# Slicing operator (:) slices all Y_train elements till the 10 element, prints binary class matrix for respective y_train elements\n",
        "Y_train[:10]\n"
      ],
      "execution_count": 0,
      "outputs": [
        {
          "output_type": "execute_result",
          "data": {
            "text/plain": [
              "array([[0., 0., 0., 0., 0., 1., 0., 0., 0., 0.],\n",
              "       [1., 0., 0., 0., 0., 0., 0., 0., 0., 0.],\n",
              "       [0., 0., 0., 0., 1., 0., 0., 0., 0., 0.],\n",
              "       [0., 1., 0., 0., 0., 0., 0., 0., 0., 0.],\n",
              "       [0., 0., 0., 0., 0., 0., 0., 0., 0., 1.],\n",
              "       [0., 0., 1., 0., 0., 0., 0., 0., 0., 0.],\n",
              "       [0., 1., 0., 0., 0., 0., 0., 0., 0., 0.],\n",
              "       [0., 0., 0., 1., 0., 0., 0., 0., 0., 0.],\n",
              "       [0., 1., 0., 0., 0., 0., 0., 0., 0., 0.],\n",
              "       [0., 0., 0., 0., 1., 0., 0., 0., 0., 0.]], dtype=float32)"
            ]
          },
          "metadata": {
            "tags": []
          },
          "execution_count": 9
        }
      ]
    },
    {
      "cell_type": "markdown",
      "metadata": {
        "id": "2U3BJ0_jD7D-",
        "colab_type": "text"
      },
      "source": [
        "## Convolution Neural Network\n",
        "\n",
        "\n",
        "### Sequential Model\n",
        "\n",
        " A Sequential Model is used to add a list of many linear stacks of layers\n",
        " \n",
        "### Convolution Block\n",
        "Convolution block consists of Convolution2D, BatchNormalization, Dropouts & Activation layers\n",
        "\n",
        "\n",
        "#### Convolution2D\n",
        "* A Convolution2D operator convolves the filters with 2D inputs.\n",
        "* First layer of the convolution2D should have input shape and the input shape of the subsequent layers are identified from the output shape of the previous layers\n",
        "* Only 3x3 kernels/filters are used for all the convolutions as it is computionally less expensive because of lower number of parameters\n",
        "\n",
        "\n",
        "#### Batch Normalization\n",
        "* Batch Normalization is used to normalize the input as well as hidden layers by adjusting the scaling of the activations. \n",
        "* It also helps in avoiding the vanishing and exploding gradient problems and regularize the network such that it is easier to generalize\n",
        "* Batch Normalization is typically placed between the linear (Convolution) and non-linear (Activation) layers\n",
        "\n",
        "#### Dropouts\n",
        "* Dropouts are used to avoid overfitting on the training data and helps in generalizing.\n",
        "\n",
        "\n",
        "#### Activation functions\n",
        "Activation functions are used to determine whether the neurons should be activated or not based on the value\n",
        "\n",
        "##### RELU\n",
        "* RELU (Rectified Linear Unit) activation functions supresses all the negative values of neurons\n",
        "\n",
        "##### Softmax\n",
        "* Softmax activation function calculate the probabilities of each target class over all possible target classes.  The range will 0 to 1, and the sum of all the probabilities will be equal to one.\n",
        "\n",
        "### Transition Block\n",
        "Transition block consists of Max Pooling & 1x1 convolution\n",
        "\n",
        "#### Maxpooling\n",
        "* MaxPooling is a downsampling technique which filters the less important features and passes the most important to the following convultional layer.\n",
        "\n",
        "#### 1x1\n",
        "* 1x1  performs a weighted sum of the channels, so it decides to pick a particular feature which defines the part of the object but not backgrounds \n",
        "* It is computationally less expensive\n",
        "* It helps in Channel reduction as well\n",
        "\n",
        "### Flatten\n",
        "\n",
        "* Flatten layer reduces the dimension of the output layer to a single dimension."
      ]
    },
    {
      "cell_type": "code",
      "metadata": {
        "id": "osKqT73Q9JJB",
        "colab_type": "code",
        "outputId": "1ea4f933-c2bd-4a8a-9842-9c3e75f21cf3",
        "colab": {
          "base_uri": "https://localhost:8080/",
          "height": 309
        }
      },
      "source": [
        "from keras.layers import Activation\n",
        "model = Sequential()\n",
        "\n",
        "dropout = 0.1\n",
        "\n",
        "# Convolution Block - 1\n",
        "model.add(Convolution2D(32, 3, 3, input_shape=(28,28,1), bias=False))\n",
        "model.add(BatchNormalization())\n",
        "model.add(Activation('relu'))\n",
        "model.add(Dropout(dropout))\n",
        "model.add(Convolution2D(32, 3,3, bias=False))\n",
        "model.add(BatchNormalization())\n",
        "model.add(Activation('relu'))\n",
        "model.add(Dropout(dropout))\n",
        "\n",
        "# Transition Block - 1\n",
        "model.add(MaxPooling2D(2,2))\n",
        "model.add(Convolution2D(10, 1, activation='relu', bias=False))\n",
        "model.add(Dropout(dropout))\n",
        "\n",
        "# Convolution Block - 2\n",
        "model.add(Convolution2D(24, 3,3, bias=False))\n",
        "model.add(BatchNormalization())\n",
        "model.add(Activation('relu'))\n",
        "model.add(Dropout(dropout))\n",
        "model.add(Convolution2D(16, 3, 3, bias=False))\n",
        "model.add(BatchNormalization())\n",
        "model.add(Activation('relu'))\n",
        "model.add(Dropout(dropout))\n",
        "model.add(Convolution2D(16, 3, 3, bias=False))\n",
        "model.add(BatchNormalization())\n",
        "model.add(Activation('relu'))\n",
        "model.add(Dropout(dropout))\n",
        "\n",
        "# Transition Block - 2\n",
        "model.add(MaxPooling2D(2,2))\n",
        "model.add(Convolution2D(10, 1, activation= 'relu', bias=False))\n",
        "model.add(Dropout(dropout))\n",
        "\n",
        "model.add(Convolution2D(10, 3, 3))\n",
        "model.add(Dropout(dropout))\n",
        "model.add(Flatten())\n",
        "model.add(Activation('softmax'))"
      ],
      "execution_count": 0,
      "outputs": [
        {
          "output_type": "stream",
          "text": [
            "WARNING:tensorflow:From /usr/local/lib/python3.6/dist-packages/tensorflow/python/framework/op_def_library.py:263: colocate_with (from tensorflow.python.framework.ops) is deprecated and will be removed in a future version.\n",
            "Instructions for updating:\n",
            "Colocations handled automatically by placer.\n"
          ],
          "name": "stdout"
        },
        {
          "output_type": "stream",
          "text": [
            "/usr/local/lib/python3.6/dist-packages/ipykernel_launcher.py:7: UserWarning: Update your `Conv2D` call to the Keras 2 API: `Conv2D(32, (3, 3), input_shape=(28, 28, 1..., use_bias=False)`\n",
            "  import sys\n"
          ],
          "name": "stderr"
        },
        {
          "output_type": "stream",
          "text": [
            "WARNING:tensorflow:From /usr/local/lib/python3.6/dist-packages/keras/backend/tensorflow_backend.py:3445: calling dropout (from tensorflow.python.ops.nn_ops) with keep_prob is deprecated and will be removed in a future version.\n",
            "Instructions for updating:\n",
            "Please use `rate` instead of `keep_prob`. Rate should be set to `rate = 1 - keep_prob`.\n"
          ],
          "name": "stdout"
        },
        {
          "output_type": "stream",
          "text": [
            "/usr/local/lib/python3.6/dist-packages/ipykernel_launcher.py:11: UserWarning: Update your `Conv2D` call to the Keras 2 API: `Conv2D(32, (3, 3), use_bias=False)`\n",
            "  # This is added back by InteractiveShellApp.init_path()\n",
            "/usr/local/lib/python3.6/dist-packages/ipykernel_launcher.py:18: UserWarning: Update your `Conv2D` call to the Keras 2 API: `Conv2D(10, 1, activation=\"relu\", use_bias=False)`\n",
            "/usr/local/lib/python3.6/dist-packages/ipykernel_launcher.py:22: UserWarning: Update your `Conv2D` call to the Keras 2 API: `Conv2D(24, (3, 3), use_bias=False)`\n",
            "/usr/local/lib/python3.6/dist-packages/ipykernel_launcher.py:26: UserWarning: Update your `Conv2D` call to the Keras 2 API: `Conv2D(16, (3, 3), use_bias=False)`\n",
            "/usr/local/lib/python3.6/dist-packages/ipykernel_launcher.py:30: UserWarning: Update your `Conv2D` call to the Keras 2 API: `Conv2D(16, (3, 3), use_bias=False)`\n",
            "/usr/local/lib/python3.6/dist-packages/ipykernel_launcher.py:37: UserWarning: Update your `Conv2D` call to the Keras 2 API: `Conv2D(10, 1, activation=\"relu\", use_bias=False)`\n",
            "/usr/local/lib/python3.6/dist-packages/ipykernel_launcher.py:40: UserWarning: Update your `Conv2D` call to the Keras 2 API: `Conv2D(10, (3, 3))`\n"
          ],
          "name": "stderr"
        }
      ]
    },
    {
      "cell_type": "code",
      "metadata": {
        "id": "TzdAYg1k9K7Z",
        "colab_type": "code",
        "outputId": "633fbe1c-944c-44d1-c64b-d3dbf571364d",
        "colab": {
          "base_uri": "https://localhost:8080/",
          "height": 1156
        }
      },
      "source": [
        "model.summary()"
      ],
      "execution_count": 0,
      "outputs": [
        {
          "output_type": "stream",
          "text": [
            "_________________________________________________________________\n",
            "Layer (type)                 Output Shape              Param #   \n",
            "=================================================================\n",
            "conv2d_1 (Conv2D)            (None, 26, 26, 32)        288       \n",
            "_________________________________________________________________\n",
            "batch_normalization_1 (Batch (None, 26, 26, 32)        128       \n",
            "_________________________________________________________________\n",
            "activation_1 (Activation)    (None, 26, 26, 32)        0         \n",
            "_________________________________________________________________\n",
            "dropout_1 (Dropout)          (None, 26, 26, 32)        0         \n",
            "_________________________________________________________________\n",
            "conv2d_2 (Conv2D)            (None, 24, 24, 32)        9216      \n",
            "_________________________________________________________________\n",
            "batch_normalization_2 (Batch (None, 24, 24, 32)        128       \n",
            "_________________________________________________________________\n",
            "activation_2 (Activation)    (None, 24, 24, 32)        0         \n",
            "_________________________________________________________________\n",
            "dropout_2 (Dropout)          (None, 24, 24, 32)        0         \n",
            "_________________________________________________________________\n",
            "max_pooling2d_1 (MaxPooling2 (None, 12, 12, 32)        0         \n",
            "_________________________________________________________________\n",
            "conv2d_3 (Conv2D)            (None, 12, 12, 10)        320       \n",
            "_________________________________________________________________\n",
            "dropout_3 (Dropout)          (None, 12, 12, 10)        0         \n",
            "_________________________________________________________________\n",
            "conv2d_4 (Conv2D)            (None, 10, 10, 24)        2160      \n",
            "_________________________________________________________________\n",
            "batch_normalization_3 (Batch (None, 10, 10, 24)        96        \n",
            "_________________________________________________________________\n",
            "activation_3 (Activation)    (None, 10, 10, 24)        0         \n",
            "_________________________________________________________________\n",
            "dropout_4 (Dropout)          (None, 10, 10, 24)        0         \n",
            "_________________________________________________________________\n",
            "conv2d_5 (Conv2D)            (None, 8, 8, 16)          3456      \n",
            "_________________________________________________________________\n",
            "batch_normalization_4 (Batch (None, 8, 8, 16)          64        \n",
            "_________________________________________________________________\n",
            "activation_4 (Activation)    (None, 8, 8, 16)          0         \n",
            "_________________________________________________________________\n",
            "dropout_5 (Dropout)          (None, 8, 8, 16)          0         \n",
            "_________________________________________________________________\n",
            "conv2d_6 (Conv2D)            (None, 6, 6, 16)          2304      \n",
            "_________________________________________________________________\n",
            "batch_normalization_5 (Batch (None, 6, 6, 16)          64        \n",
            "_________________________________________________________________\n",
            "activation_5 (Activation)    (None, 6, 6, 16)          0         \n",
            "_________________________________________________________________\n",
            "dropout_6 (Dropout)          (None, 6, 6, 16)          0         \n",
            "_________________________________________________________________\n",
            "max_pooling2d_2 (MaxPooling2 (None, 3, 3, 16)          0         \n",
            "_________________________________________________________________\n",
            "conv2d_7 (Conv2D)            (None, 3, 3, 10)          160       \n",
            "_________________________________________________________________\n",
            "dropout_7 (Dropout)          (None, 3, 3, 10)          0         \n",
            "_________________________________________________________________\n",
            "conv2d_8 (Conv2D)            (None, 1, 1, 10)          910       \n",
            "_________________________________________________________________\n",
            "dropout_8 (Dropout)          (None, 1, 1, 10)          0         \n",
            "_________________________________________________________________\n",
            "flatten_1 (Flatten)          (None, 10)                0         \n",
            "_________________________________________________________________\n",
            "activation_6 (Activation)    (None, 10)                0         \n",
            "=================================================================\n",
            "Total params: 19,294\n",
            "Trainable params: 19,054\n",
            "Non-trainable params: 240\n",
            "_________________________________________________________________\n"
          ],
          "name": "stdout"
        }
      ]
    },
    {
      "cell_type": "markdown",
      "metadata": {
        "id": "SZSEQunHEBt_",
        "colab_type": "text"
      },
      "source": [
        "## Configures the model for training \n",
        "\n",
        "\n",
        "\n",
        "*   categorical_crossentropy loss function is used as the target has 10 classes\n",
        "*   only accuracy 'metrics' is evaluated by the model during the training and testing"
      ]
    },
    {
      "cell_type": "code",
      "metadata": {
        "id": "Zp6SuGrL9M3h",
        "colab_type": "code",
        "colab": {}
      },
      "source": [
        "model.compile(loss='categorical_crossentropy',\n",
        "             optimizer='adam',\n",
        "             metrics=['accuracy'])"
      ],
      "execution_count": 0,
      "outputs": []
    },
    {
      "cell_type": "markdown",
      "metadata": {
        "id": "NJGakp7NEEaP",
        "colab_type": "text"
      },
      "source": [
        "## Model Training"
      ]
    },
    {
      "cell_type": "code",
      "metadata": {
        "id": "4xWoKhPY9Of5",
        "colab_type": "code",
        "outputId": "40be7733-11a3-44aa-83fe-abe7a4c9a6ae",
        "colab": {
          "base_uri": "https://localhost:8080/",
          "height": 1159
        }
      },
      "source": [
        "model.fit(X_train, Y_train, batch_size=256, nb_epoch=30, verbose=1)"
      ],
      "execution_count": 0,
      "outputs": [
        {
          "output_type": "stream",
          "text": [
            "WARNING:tensorflow:From /usr/local/lib/python3.6/dist-packages/tensorflow/python/ops/math_ops.py:3066: to_int32 (from tensorflow.python.ops.math_ops) is deprecated and will be removed in a future version.\n",
            "Instructions for updating:\n",
            "Use tf.cast instead.\n"
          ],
          "name": "stdout"
        },
        {
          "output_type": "stream",
          "text": [
            "/usr/local/lib/python3.6/dist-packages/ipykernel_launcher.py:1: UserWarning: The `nb_epoch` argument in `fit` has been renamed `epochs`.\n",
            "  \"\"\"Entry point for launching an IPython kernel.\n"
          ],
          "name": "stderr"
        },
        {
          "output_type": "stream",
          "text": [
            "Epoch 1/30\n",
            "60000/60000 [==============================] - 7s 118us/step - loss: 0.8545 - acc: 0.7215\n",
            "Epoch 2/30\n",
            "60000/60000 [==============================] - 5s 79us/step - loss: 0.2659 - acc: 0.9053\n",
            "Epoch 3/30\n",
            "60000/60000 [==============================] - 5s 79us/step - loss: 0.2006 - acc: 0.9246\n",
            "Epoch 4/30\n",
            "60000/60000 [==============================] - 5s 82us/step - loss: 0.1725 - acc: 0.9327\n",
            "Epoch 5/30\n",
            "60000/60000 [==============================] - 5s 83us/step - loss: 0.1556 - acc: 0.9378\n",
            "Epoch 6/30\n",
            "60000/60000 [==============================] - 5s 81us/step - loss: 0.1447 - acc: 0.9395\n",
            "Epoch 7/30\n",
            "60000/60000 [==============================] - 5s 81us/step - loss: 0.1357 - acc: 0.9428\n",
            "Epoch 8/30\n",
            "60000/60000 [==============================] - 5s 80us/step - loss: 0.1299 - acc: 0.9440\n",
            "Epoch 9/30\n",
            "60000/60000 [==============================] - 5s 80us/step - loss: 0.1216 - acc: 0.9468\n",
            "Epoch 10/30\n",
            "60000/60000 [==============================] - 5s 80us/step - loss: 0.1211 - acc: 0.9468\n",
            "Epoch 11/30\n",
            "60000/60000 [==============================] - 5s 80us/step - loss: 0.1160 - acc: 0.9492\n",
            "Epoch 12/30\n",
            "60000/60000 [==============================] - 5s 80us/step - loss: 0.1118 - acc: 0.9490\n",
            "Epoch 13/30\n",
            "60000/60000 [==============================] - 5s 80us/step - loss: 0.1118 - acc: 0.9496\n",
            "Epoch 14/30\n",
            "60000/60000 [==============================] - 5s 80us/step - loss: 0.1074 - acc: 0.9514\n",
            "Epoch 15/30\n",
            "60000/60000 [==============================] - 5s 79us/step - loss: 0.1068 - acc: 0.9503\n",
            "Epoch 16/30\n",
            "60000/60000 [==============================] - 5s 79us/step - loss: 0.1040 - acc: 0.9516\n",
            "Epoch 17/30\n",
            "60000/60000 [==============================] - 5s 83us/step - loss: 0.1041 - acc: 0.9525\n",
            "Epoch 18/30\n",
            "60000/60000 [==============================] - 5s 80us/step - loss: 0.1004 - acc: 0.9517\n",
            "Epoch 19/30\n",
            "60000/60000 [==============================] - 5s 80us/step - loss: 0.1028 - acc: 0.9513\n",
            "Epoch 20/30\n",
            "60000/60000 [==============================] - 5s 80us/step - loss: 0.0990 - acc: 0.9522\n",
            "Epoch 21/30\n",
            "60000/60000 [==============================] - 5s 81us/step - loss: 0.0953 - acc: 0.9545\n",
            "Epoch 22/30\n",
            "60000/60000 [==============================] - 5s 82us/step - loss: 0.0996 - acc: 0.9519\n",
            "Epoch 23/30\n",
            "60000/60000 [==============================] - 5s 81us/step - loss: 0.0961 - acc: 0.9541\n",
            "Epoch 24/30\n",
            "60000/60000 [==============================] - 5s 80us/step - loss: 0.0963 - acc: 0.9540\n",
            "Epoch 25/30\n",
            "60000/60000 [==============================] - 5s 80us/step - loss: 0.0941 - acc: 0.9530\n",
            "Epoch 26/30\n",
            "60000/60000 [==============================] - 5s 80us/step - loss: 0.0922 - acc: 0.9546\n",
            "Epoch 27/30\n",
            "60000/60000 [==============================] - 5s 79us/step - loss: 0.0923 - acc: 0.9546\n",
            "Epoch 28/30\n",
            "60000/60000 [==============================] - 5s 80us/step - loss: 0.0913 - acc: 0.9563\n",
            "Epoch 29/30\n",
            "60000/60000 [==============================] - 5s 80us/step - loss: 0.0919 - acc: 0.9547\n",
            "Epoch 30/30\n",
            "60000/60000 [==============================] - 5s 79us/step - loss: 0.0902 - acc: 0.9553\n"
          ],
          "name": "stdout"
        },
        {
          "output_type": "execute_result",
          "data": {
            "text/plain": [
              "<keras.callbacks.History at 0x7f20152ed320>"
            ]
          },
          "metadata": {
            "tags": []
          },
          "execution_count": 13
        }
      ]
    },
    {
      "cell_type": "markdown",
      "metadata": {
        "id": "Kzk3E79nEIZu",
        "colab_type": "text"
      },
      "source": [
        "## Model Evaluation"
      ]
    },
    {
      "cell_type": "code",
      "metadata": {
        "id": "AtsH-lLk-eLb",
        "colab_type": "code",
        "colab": {}
      },
      "source": [
        "score = model.evaluate(X_test, Y_test, verbose=0)"
      ],
      "execution_count": 0,
      "outputs": []
    },
    {
      "cell_type": "code",
      "metadata": {
        "id": "mkX8JMv79q9r",
        "colab_type": "code",
        "outputId": "e2d18f49-a02c-4463-c5b6-91bb599c6e08",
        "colab": {
          "base_uri": "https://localhost:8080/",
          "height": 51
        }
      },
      "source": [
        "print(model.metrics_names)\n",
        "print(score)"
      ],
      "execution_count": 0,
      "outputs": [
        {
          "output_type": "stream",
          "text": [
            "['loss', 'acc']\n",
            "[0.01993444280837648, 0.9941]\n"
          ],
          "name": "stdout"
        }
      ]
    },
    {
      "cell_type": "markdown",
      "metadata": {
        "id": "Ndbll2POELlP",
        "colab_type": "text"
      },
      "source": [
        "## Model Prediction"
      ]
    },
    {
      "cell_type": "code",
      "metadata": {
        "id": "OCWoJkwE9suh",
        "colab_type": "code",
        "colab": {}
      },
      "source": [
        "y_pred = model.predict(X_test)"
      ],
      "execution_count": 0,
      "outputs": []
    },
    {
      "cell_type": "code",
      "metadata": {
        "id": "Ym7iCFBm9uBs",
        "colab_type": "code",
        "outputId": "c83aeaf8-24d9-4370-b8fa-a43071937b23",
        "colab": {
          "base_uri": "https://localhost:8080/",
          "height": 493
        }
      },
      "source": [
        "print(y_pred[:9])\n",
        "print(y_test[:9])"
      ],
      "execution_count": 0,
      "outputs": [
        {
          "output_type": "stream",
          "text": [
            "[[9.26034138e-10 3.21914584e-09 7.31421750e-08 2.07704272e-08\n",
            "  4.96476228e-11 1.87992577e-09 5.85089296e-14 9.99999881e-01\n",
            "  3.04122905e-09 2.89354918e-09]\n",
            " [3.14444078e-05 4.40197664e-06 9.99957204e-01 1.80778237e-08\n",
            "  4.05127416e-08 4.81345297e-10 6.43628027e-06 3.35872663e-08\n",
            "  3.07728499e-07 3.22519256e-08]\n",
            " [1.56364891e-07 9.99992728e-01 8.83386178e-07 3.66364361e-08\n",
            "  1.67096323e-06 2.50910546e-07 1.50000017e-06 2.52718246e-06\n",
            "  2.00023095e-07 6.71094611e-08]\n",
            " [9.99947667e-01 1.14270282e-09 1.21848336e-06 3.54315603e-07\n",
            "  1.70193495e-08 3.53789886e-07 7.27620886e-07 3.19884315e-08\n",
            "  4.90927341e-05 5.94180108e-07]\n",
            " [3.43259954e-09 9.82223796e-08 6.42517435e-08 2.70940337e-09\n",
            "  9.99998450e-01 1.17206360e-08 3.62953017e-07 5.17952081e-08\n",
            "  3.44190283e-07 7.04378181e-07]\n",
            " [4.27647784e-08 9.99997377e-01 3.32045346e-07 8.29317770e-09\n",
            "  3.32594254e-07 2.67021658e-08 3.87264095e-07 1.25545864e-06\n",
            "  4.65620751e-08 2.18126885e-07]\n",
            " [1.66940872e-09 1.09587081e-05 2.75993870e-07 3.38411382e-10\n",
            "  9.99984741e-01 5.54416140e-08 4.22599511e-09 2.83150530e-06\n",
            "  1.11936254e-06 4.20970601e-08]\n",
            " [2.09410572e-07 5.17333660e-07 6.84069073e-06 6.04531124e-06\n",
            "  3.49584116e-05 5.04087848e-06 5.38155582e-08 1.77926935e-07\n",
            "  3.18496132e-05 9.99914289e-01]\n",
            " [1.14720955e-07 4.94764056e-11 1.03182424e-06 3.14843938e-08\n",
            "  1.30466589e-07 9.96490300e-01 3.42525565e-03 1.67765020e-08\n",
            "  8.28672783e-05 3.15536653e-07]]\n",
            "[7 2 1 0 4 1 4 9 5]\n"
          ],
          "name": "stdout"
        }
      ]
    },
    {
      "cell_type": "code",
      "metadata": {
        "id": "CT--y98_dr2T",
        "colab_type": "code",
        "colab": {}
      },
      "source": [
        "layer_dict = dict([(layer.name, layer) for layer in model.layers])"
      ],
      "execution_count": 0,
      "outputs": []
    },
    {
      "cell_type": "markdown",
      "metadata": {
        "id": "_D9jhcQCEOIJ",
        "colab_type": "text"
      },
      "source": [
        "## Visualize the filters of the Convolution layers"
      ]
    },
    {
      "cell_type": "code",
      "metadata": {
        "id": "2GY4Upv4dsUR",
        "colab_type": "code",
        "outputId": "26ddb644-5a5c-4125-bff9-5893c8072aa8",
        "colab": {
          "base_uri": "https://localhost:8080/",
          "height": 854
        }
      },
      "source": [
        "import numpy as np\n",
        "from matplotlib import pyplot as plt\n",
        "from keras import backend as K\n",
        "%matplotlib inline\n",
        "# util function to convert a tensor into a valid image\n",
        "def deprocess_image(x):\n",
        "    # normalize tensor: center on 0., ensure std is 0.1\n",
        "    x -= x.mean()\n",
        "    x /= (x.std() + 1e-5)\n",
        "    x *= 0.1\n",
        "\n",
        "    # clip to [0, 1]\n",
        "    x += 0.5\n",
        "    x = np.clip(x, 0, 1)\n",
        "\n",
        "    # convert to RGB array\n",
        "    x *= 255\n",
        "    #x = x.transpose((1, 2, 0))\n",
        "    x = np.clip(x, 0, 255).astype('uint8')\n",
        "    return x\n",
        "\n",
        "def vis_img_in_filter(img = np.array(X_train[2]).reshape((1, 28, 28, 1)).astype(np.float64), \n",
        "                      layer_name = 'conv2d_38'):\n",
        "    layer_output = layer_dict[layer_name].output\n",
        "    img_ascs = list()\n",
        "    for filter_index in range(layer_output.shape[3]):\n",
        "        # build a loss function that maximizes the activation\n",
        "        # of the nth filter of the layer considered\n",
        "        loss = K.mean(layer_output[:, :, :, filter_index])\n",
        "\n",
        "        # compute the gradient of the input picture wrt this loss\n",
        "        grads = K.gradients(loss, model.input)[0]\n",
        "\n",
        "        # normalization trick: we normalize the gradient\n",
        "        grads /= (K.sqrt(K.mean(K.square(grads))) + 1e-5)\n",
        "\n",
        "        # this function returns the loss and grads given the input picture\n",
        "        iterate = K.function([model.input], [loss, grads])\n",
        "\n",
        "        # step size for gradient ascent\n",
        "        step = 5.\n",
        "\n",
        "        img_asc = np.array(img)\n",
        "        # run gradient ascent for 20 steps\n",
        "        for i in range(20):\n",
        "            loss_value, grads_value = iterate([img_asc])\n",
        "            img_asc += grads_value * step\n",
        "\n",
        "        img_asc = img_asc[0]\n",
        "        img_ascs.append(deprocess_image(img_asc).reshape((28, 28)))\n",
        "        \n",
        "    if layer_output.shape[3] >= 35:\n",
        "        plot_x, plot_y = 6, 6\n",
        "    elif layer_output.shape[3] >= 23:\n",
        "        plot_x, plot_y = 4, 6\n",
        "    elif layer_output.shape[3] >= 11:\n",
        "        plot_x, plot_y = 2, 6\n",
        "    else:\n",
        "        plot_x, plot_y = 1, 2\n",
        "    fig, ax = plt.subplots(plot_x, plot_y, figsize = (12, 12))\n",
        "    ax[0, 0].imshow(img.reshape((28, 28)), cmap = 'gray')\n",
        "    ax[0, 0].set_title('Input image')\n",
        "    fig.suptitle('Input image and %s filters' % (layer_name,))\n",
        "    fig.tight_layout(pad = 0.3, rect = [0, 0, 0.9, 0.9])\n",
        "    for (x, y) in [(i, j) for i in range(plot_x) for j in range(plot_y)]:\n",
        "        if x == 0 and y == 0:\n",
        "            continue\n",
        "        ax[x, y].imshow(img_ascs[x * plot_y + y - 1], cmap = 'gray')\n",
        "        ax[x, y].set_title('filter %d' % (x * plot_y + y - 1))\n",
        "\n",
        "print(Y_train[2])\n",
        "vis_img_in_filter(np.array(X_train[2]).reshape((1, 28, 28, 1)).astype(np.float64), 'activation_1')"
      ],
      "execution_count": 0,
      "outputs": [
        {
          "output_type": "stream",
          "text": [
            "[0. 0. 0. 0. 1. 0. 0. 0. 0. 0.]\n"
          ],
          "name": "stdout"
        },
        {
          "output_type": "display_data",
          "data": {
            "image/png": "[encoded data removed]",
            "text/plain": [
              "<Figure size 864x864 with 24 Axes>"
            ]
          },
          "metadata": {
            "tags": []
          }
        }
      ]
    }
  ]
}