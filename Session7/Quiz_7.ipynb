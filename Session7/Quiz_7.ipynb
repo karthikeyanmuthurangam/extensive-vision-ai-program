{
  "nbformat": 4,
  "nbformat_minor": 0,
  "metadata": {
    "colab": {
      "name": "Quiz 7.ipynb",
      "version": "0.3.2",
      "provenance": [],
      "collapsed_sections": []
    },
    "kernelspec": {
      "name": "python3",
      "display_name": "Python 3"
    },
    "accelerator": "GPU"
  },
  "cells": [
    {
      "cell_type": "markdown",
      "metadata": {
        "id": "aNyZv-Ec52ot",
        "colab_type": "text"
      },
      "source": [
        "# **Import Libraries and modules**"
      ]
    },
    {
      "cell_type": "code",
      "metadata": {
        "id": "3m3w1Cw49Zkt",
        "colab_type": "code",
        "colab": {
          "base_uri": "https://localhost:8080/",
          "height": 51
        },
        "outputId": "28a96f69-7470-4855-cab6-ab9ec3755413"
      },
      "source": [
        "# https://keras.io/\n",
        "!pip install -q keras\n",
        "import keras\n",
        "import datetime\n",
        "print(datetime.datetime.now())"
      ],
      "execution_count": 1,
      "outputs": [
        {
          "output_type": "stream",
          "text": [
            "Using TensorFlow backend.\n"
          ],
          "name": "stderr"
        },
        {
          "output_type": "stream",
          "text": [
            "2019-06-19 20:07:09.953477\n"
          ],
          "name": "stdout"
        }
      ]
    },
    {
      "cell_type": "code",
      "metadata": {
        "id": "Eso6UHE080D4",
        "colab_type": "code",
        "colab": {
          "base_uri": "https://localhost:8080/",
          "height": 34
        },
        "outputId": "4b86eead-07ef-42db-fdd3-049a8263ae36"
      },
      "source": [
        "import numpy as np\n",
        "\n",
        "from keras.models import Sequential, Model\n",
        "from keras.layers import Dense, Dropout, Activation, Flatten, Add\n",
        "from keras.layers import Convolution2D, MaxPooling2D\n",
        "from keras.utils import np_utils\n",
        "\n",
        "from keras.datasets import mnist\n",
        "print(datetime.datetime.now())"
      ],
      "execution_count": 11,
      "outputs": [
        {
          "output_type": "stream",
          "text": [
            "2019-06-19 20:07:55.693252\n"
          ],
          "name": "stdout"
        }
      ]
    },
    {
      "cell_type": "markdown",
      "metadata": {
        "id": "zByEi95J86RD",
        "colab_type": "text"
      },
      "source": [
        "### Load pre-shuffled MNIST data into train and test sets"
      ]
    },
    {
      "cell_type": "code",
      "metadata": {
        "id": "7eRM0QWN83PV",
        "colab_type": "code",
        "colab": {
          "base_uri": "https://localhost:8080/",
          "height": 68
        },
        "outputId": "f4a1a4ed-6039-44bb-d390-125b806038a0"
      },
      "source": [
        "(X_train, y_train), (X_test, y_test) = mnist.load_data()\n",
        "print(datetime.datetime.now())"
      ],
      "execution_count": 3,
      "outputs": [
        {
          "output_type": "stream",
          "text": [
            "Downloading data from https://s3.amazonaws.com/img-datasets/mnist.npz\n",
            "11493376/11490434 [==============================] - 0s 0us/step\n",
            "2019-06-19 20:07:10.465359\n"
          ],
          "name": "stdout"
        }
      ]
    },
    {
      "cell_type": "code",
      "metadata": {
        "id": "4a4Be72j8-ZC",
        "colab_type": "code",
        "colab": {
          "base_uri": "https://localhost:8080/",
          "height": 303
        },
        "outputId": "6b591dc5-cbcb-4330-b348-012cc8756e20"
      },
      "source": [
        "print (X_train.shape)\n",
        "from matplotlib import pyplot as plt\n",
        "%matplotlib inline\n",
        "plt.imshow(X_train[0])\n",
        "print(datetime.datetime.now())"
      ],
      "execution_count": 4,
      "outputs": [
        {
          "output_type": "stream",
          "text": [
            "(60000, 28, 28)\n",
            "2019-06-19 20:07:10.491574\n"
          ],
          "name": "stdout"
        },
        {
          "output_type": "display_data",
          "data": {
            "image/png": "[encoded data removed]",
            "text/plain": [
              "<Figure size 432x288 with 1 Axes>"
            ]
          },
          "metadata": {
            "tags": []
          }
        }
      ]
    },
    {
      "cell_type": "code",
      "metadata": {
        "id": "dkmprriw9AnZ",
        "colab_type": "code",
        "colab": {
          "base_uri": "https://localhost:8080/",
          "height": 34
        },
        "outputId": "0d154fec-bc3d-4a2a-d548-cb68857a6849"
      },
      "source": [
        "X_train = X_train.reshape(X_train.shape[0], 28, 28,1)\n",
        "X_test = X_test.reshape(X_test.shape[0], 28, 28,1)\n",
        "print(datetime.datetime.now())"
      ],
      "execution_count": 5,
      "outputs": [
        {
          "output_type": "stream",
          "text": [
            "2019-06-19 20:07:10.649418\n"
          ],
          "name": "stdout"
        }
      ]
    },
    {
      "cell_type": "code",
      "metadata": {
        "id": "X2m4YS4E9CRh",
        "colab_type": "code",
        "colab": {
          "base_uri": "https://localhost:8080/",
          "height": 34
        },
        "outputId": "7b676cee-7e82-40b5-d411-88e3e487b1e7"
      },
      "source": [
        "X_train = X_train.astype('float32')\n",
        "X_test = X_test.astype('float32')\n",
        "X_train /= 255\n",
        "X_test /= 255\n",
        "print(datetime.datetime.now())"
      ],
      "execution_count": 6,
      "outputs": [
        {
          "output_type": "stream",
          "text": [
            "2019-06-19 20:07:10.803896\n"
          ],
          "name": "stdout"
        }
      ]
    },
    {
      "cell_type": "code",
      "metadata": {
        "id": "0Mn0vAYD9DvB",
        "colab_type": "code",
        "colab": {
          "base_uri": "https://localhost:8080/",
          "height": 34
        },
        "outputId": "8c0a4149-35f1-4f90-8b30-bf460b2e8f5e"
      },
      "source": [
        "y_train[:10]\n",
        "print(datetime.datetime.now())"
      ],
      "execution_count": 7,
      "outputs": [
        {
          "output_type": "stream",
          "text": [
            "2019-06-19 20:07:10.810529\n"
          ],
          "name": "stdout"
        }
      ]
    },
    {
      "cell_type": "code",
      "metadata": {
        "id": "ZG8JiXR39FHC",
        "colab_type": "code",
        "colab": {
          "base_uri": "https://localhost:8080/",
          "height": 34
        },
        "outputId": "cf9a79ba-9dbb-47e7-9cec-b7d6c5fc7f28"
      },
      "source": [
        "# Convert 1-dimensional class arrays to 10-dimensional class matrices\n",
        "Y_train = np_utils.to_categorical(y_train, 10)\n",
        "Y_test = np_utils.to_categorical(y_test, 10)\n",
        "print(datetime.datetime.now())"
      ],
      "execution_count": 8,
      "outputs": [
        {
          "output_type": "stream",
          "text": [
            "2019-06-19 20:07:10.825184\n"
          ],
          "name": "stdout"
        }
      ]
    },
    {
      "cell_type": "code",
      "metadata": {
        "id": "fYlFRvKS9HMB",
        "colab_type": "code",
        "colab": {
          "base_uri": "https://localhost:8080/",
          "height": 34
        },
        "outputId": "4f1b4c7b-4f80-43a6-a3ff-c996af86252d"
      },
      "source": [
        "Y_train[:10]\n",
        "print(datetime.datetime.now())"
      ],
      "execution_count": 9,
      "outputs": [
        {
          "output_type": "stream",
          "text": [
            "2019-06-19 20:07:10.831773\n"
          ],
          "name": "stdout"
        }
      ]
    },
    {
      "cell_type": "code",
      "metadata": {
        "id": "osKqT73Q9JJB",
        "colab_type": "code",
        "colab": {
          "base_uri": "https://localhost:8080/",
          "height": 34
        },
        "outputId": "1d7e8011-b119-4408-c9d2-74fa29eb3956"
      },
      "source": [
        "## MAIN BLOCK\n",
        "\n",
        "from keras.layers import Input, Add, Conv2D, Activation\n",
        "\n",
        "x1 = Input(shape=(28, 28, 1))\n",
        "\n",
        "x2 = Conv2D(32, (3, 3), activation='relu', padding='same')(x1)\n",
        "\n",
        "add1 = Add()([x1, x2])\n",
        "x3 = Conv2D(32, (3,3), activation='relu', padding='same')(add1)\n",
        "\n",
        "\n",
        "add2 = Add()([x1, x2, x3])\n",
        "x4 = MaxPooling2D(pool_size=(2,2))(add2)\n",
        "\n",
        "x5 = Conv2D(32, (3,3), activation='relu', padding='same')(x4)\n",
        "\n",
        "add3 = Add()([x4, x5])\n",
        "x6 = Conv2D(32, (3,3), activation='relu', padding='same')(add3)\n",
        "\n",
        "add4 = Add()([x4, x5, x6])\n",
        "x7 = Conv2D(32, (3,3), activation='relu', padding='same')(add4)\n",
        "\n",
        "add5 = Add()([x5, x6, x7])\n",
        "x8 = MaxPooling2D(pool_size=(2,2))(add5)\n",
        "\n",
        "x9 = Conv2D(32, (3,3), activation='relu', padding='same')(x8)\n",
        "\n",
        "add6 = Add()([x8, x9])\n",
        "x10 = Conv2D(32, (3,3), activation='relu', padding='same')(add6)\n",
        "\n",
        "add7 = Add()([x8, x9, x10])\n",
        "x11 = Conv2D(32, (3,3), activation='relu', padding='same')(add7)\n",
        "\n",
        "x12 = Conv2D(10, (7, 7)) (x11)\n",
        "\n",
        "x13 = Flatten()(x12)\n",
        "output = Activation('softmax')(x13)\n",
        "\n",
        "model = Model(inputs=[x1], outputs=[output])\n",
        "\n",
        "print(datetime.datetime.now())"
      ],
      "execution_count": 19,
      "outputs": [
        {
          "output_type": "stream",
          "text": [
            "2019-06-19 20:15:04.379388\n"
          ],
          "name": "stdout"
        }
      ]
    },
    {
      "cell_type": "code",
      "metadata": {
        "id": "TzdAYg1k9K7Z",
        "colab_type": "code",
        "colab": {
          "base_uri": "https://localhost:8080/",
          "height": 1054
        },
        "outputId": "e0e89590-a923-4088-b99b-dfe1f9a05463"
      },
      "source": [
        "model.summary()\n",
        "\n",
        "print(datetime.datetime.now())"
      ],
      "execution_count": 20,
      "outputs": [
        {
          "output_type": "stream",
          "text": [
            "__________________________________________________________________________________________________\n",
            "Layer (type)                    Output Shape         Param #     Connected to                     \n",
            "==================================================================================================\n",
            "input_5 (InputLayer)            (None, 28, 28, 1)    0                                            \n",
            "__________________________________________________________________________________________________\n",
            "conv2d_31 (Conv2D)              (None, 28, 28, 32)   320         input_5[0][0]                    \n",
            "__________________________________________________________________________________________________\n",
            "add_25 (Add)                    (None, 28, 28, 32)   0           input_5[0][0]                    \n",
            "                                                                 conv2d_31[0][0]                  \n",
            "__________________________________________________________________________________________________\n",
            "conv2d_32 (Conv2D)              (None, 28, 28, 32)   9248        add_25[0][0]                     \n",
            "__________________________________________________________________________________________________\n",
            "add_26 (Add)                    (None, 28, 28, 32)   0           input_5[0][0]                    \n",
            "                                                                 conv2d_31[0][0]                  \n",
            "                                                                 conv2d_32[0][0]                  \n",
            "__________________________________________________________________________________________________\n",
            "max_pooling2d_8 (MaxPooling2D)  (None, 14, 14, 32)   0           add_26[0][0]                     \n",
            "__________________________________________________________________________________________________\n",
            "conv2d_33 (Conv2D)              (None, 14, 14, 32)   9248        max_pooling2d_8[0][0]            \n",
            "__________________________________________________________________________________________________\n",
            "add_27 (Add)                    (None, 14, 14, 32)   0           max_pooling2d_8[0][0]            \n",
            "                                                                 conv2d_33[0][0]                  \n",
            "__________________________________________________________________________________________________\n",
            "conv2d_34 (Conv2D)              (None, 14, 14, 32)   9248        add_27[0][0]                     \n",
            "__________________________________________________________________________________________________\n",
            "add_28 (Add)                    (None, 14, 14, 32)   0           max_pooling2d_8[0][0]            \n",
            "                                                                 conv2d_33[0][0]                  \n",
            "                                                                 conv2d_34[0][0]                  \n",
            "__________________________________________________________________________________________________\n",
            "conv2d_35 (Conv2D)              (None, 14, 14, 32)   9248        add_28[0][0]                     \n",
            "__________________________________________________________________________________________________\n",
            "add_29 (Add)                    (None, 14, 14, 32)   0           conv2d_33[0][0]                  \n",
            "                                                                 conv2d_34[0][0]                  \n",
            "                                                                 conv2d_35[0][0]                  \n",
            "__________________________________________________________________________________________________\n",
            "max_pooling2d_9 (MaxPooling2D)  (None, 7, 7, 32)     0           add_29[0][0]                     \n",
            "__________________________________________________________________________________________________\n",
            "conv2d_36 (Conv2D)              (None, 7, 7, 32)     9248        max_pooling2d_9[0][0]            \n",
            "__________________________________________________________________________________________________\n",
            "add_30 (Add)                    (None, 7, 7, 32)     0           max_pooling2d_9[0][0]            \n",
            "                                                                 conv2d_36[0][0]                  \n",
            "__________________________________________________________________________________________________\n",
            "conv2d_37 (Conv2D)              (None, 7, 7, 32)     9248        add_30[0][0]                     \n",
            "__________________________________________________________________________________________________\n",
            "add_31 (Add)                    (None, 7, 7, 32)     0           max_pooling2d_9[0][0]            \n",
            "                                                                 conv2d_36[0][0]                  \n",
            "                                                                 conv2d_37[0][0]                  \n",
            "__________________________________________________________________________________________________\n",
            "conv2d_38 (Conv2D)              (None, 7, 7, 32)     9248        add_31[0][0]                     \n",
            "__________________________________________________________________________________________________\n",
            "conv2d_39 (Conv2D)              (None, 1, 1, 10)     15690       conv2d_38[0][0]                  \n",
            "__________________________________________________________________________________________________\n",
            "flatten_4 (Flatten)             (None, 10)           0           conv2d_39[0][0]                  \n",
            "__________________________________________________________________________________________________\n",
            "activation_4 (Activation)       (None, 10)           0           flatten_4[0][0]                  \n",
            "==================================================================================================\n",
            "Total params: 80,746\n",
            "Trainable params: 80,746\n",
            "Non-trainable params: 0\n",
            "__________________________________________________________________________________________________\n",
            "2019-06-19 20:15:07.009846\n"
          ],
          "name": "stdout"
        }
      ]
    },
    {
      "cell_type": "code",
      "metadata": {
        "id": "Zp6SuGrL9M3h",
        "colab_type": "code",
        "colab": {
          "base_uri": "https://localhost:8080/",
          "height": 34
        },
        "outputId": "db2debcb-a60a-4376-a104-74967081362c"
      },
      "source": [
        "model.compile(loss='categorical_crossentropy',\n",
        "             optimizer='adam',\n",
        "             metrics=['accuracy'])\n",
        "print(datetime.datetime.now())"
      ],
      "execution_count": 21,
      "outputs": [
        {
          "output_type": "stream",
          "text": [
            "2019-06-19 20:15:12.123233\n"
          ],
          "name": "stdout"
        }
      ]
    },
    {
      "cell_type": "code",
      "metadata": {
        "id": "4xWoKhPY9Of5",
        "colab_type": "code",
        "colab": {
          "base_uri": "https://localhost:8080/",
          "height": 408
        },
        "outputId": "816f0406-0b04-4900-8e61-4d0da485cb02"
      },
      "source": [
        "model.fit(X_train, Y_train, batch_size=32, nb_epoch=10, verbose=1)\n",
        "print(datetime.datetime.now())"
      ],
      "execution_count": 22,
      "outputs": [
        {
          "output_type": "stream",
          "text": [
            "/usr/local/lib/python3.6/dist-packages/ipykernel_launcher.py:1: UserWarning: The `nb_epoch` argument in `fit` has been renamed `epochs`.\n",
            "  \"\"\"Entry point for launching an IPython kernel.\n"
          ],
          "name": "stderr"
        },
        {
          "output_type": "stream",
          "text": [
            "Epoch 1/10\n",
            "60000/60000 [==============================] - 14s 229us/step - loss: 0.1445 - acc: 0.9546\n",
            "Epoch 2/10\n",
            "60000/60000 [==============================] - 13s 215us/step - loss: 0.0578 - acc: 0.9820\n",
            "Epoch 3/10\n",
            "60000/60000 [==============================] - 13s 214us/step - loss: 0.0440 - acc: 0.9865\n",
            "Epoch 4/10\n",
            "60000/60000 [==============================] - 13s 215us/step - loss: 0.0360 - acc: 0.9887\n",
            "Epoch 5/10\n",
            "60000/60000 [==============================] - 13s 214us/step - loss: 0.0325 - acc: 0.9897\n",
            "Epoch 6/10\n",
            "60000/60000 [==============================] - 13s 217us/step - loss: 0.0285 - acc: 0.9912\n",
            "Epoch 7/10\n",
            "60000/60000 [==============================] - 13s 218us/step - loss: 0.0252 - acc: 0.9922\n",
            "Epoch 8/10\n",
            "60000/60000 [==============================] - 13s 214us/step - loss: 0.0224 - acc: 0.9930\n",
            "Epoch 9/10\n",
            "60000/60000 [==============================] - 13s 214us/step - loss: 0.0223 - acc: 0.9932\n",
            "Epoch 10/10\n",
            "60000/60000 [==============================] - 13s 214us/step - loss: 0.0206 - acc: 0.9940\n",
            "2019-06-19 20:17:26.246807\n"
          ],
          "name": "stdout"
        }
      ]
    },
    {
      "cell_type": "code",
      "metadata": {
        "id": "AtsH-lLk-eLb",
        "colab_type": "code",
        "colab": {
          "base_uri": "https://localhost:8080/",
          "height": 34
        },
        "outputId": "e23c0102-9165-4f4f-8a4e-91e38c4ac2b5"
      },
      "source": [
        "score = model.evaluate(X_test, Y_test, verbose=0)\n",
        "print(datetime.datetime.now())"
      ],
      "execution_count": 23,
      "outputs": [
        {
          "output_type": "stream",
          "text": [
            "2019-06-19 20:17:30.407071\n"
          ],
          "name": "stdout"
        }
      ]
    },
    {
      "cell_type": "code",
      "metadata": {
        "id": "mkX8JMv79q9r",
        "colab_type": "code",
        "colab": {
          "base_uri": "https://localhost:8080/",
          "height": 51
        },
        "outputId": "017d23d0-c102-401a-a88b-83a3bbbd6f22"
      },
      "source": [
        "print(score)\n",
        "print(datetime.datetime.now())"
      ],
      "execution_count": 24,
      "outputs": [
        {
          "output_type": "stream",
          "text": [
            "[0.047289932724080566, 0.9895]\n",
            "2019-06-19 20:17:32.246311\n"
          ],
          "name": "stdout"
        }
      ]
    }
  ]
}